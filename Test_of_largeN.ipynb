{
 "cells": [
  {
   "cell_type": "code",
   "execution_count": 27,
   "metadata": {},
   "outputs": [],
   "source": [
    "# Test the Law Of Large Numbers for N random normally distributed numbers with mean = 0 and std= 1\n",
    "\n",
    "# Create a Python script that will count how many of these numbers fall between - 1 and 1 and divide by the total quantity of N\n",
    "\n",
    "# You know that E(X) = 68.2%\n",
    "\n",
    "# Check that Mean(XN) -> E(X) as you rerun your script while increasing N"
   ]
  },
  {
   "cell_type": "code",
   "execution_count": 25,
   "metadata": {},
   "outputs": [],
   "source": [
    "import numpy as np\n",
    "from numpy.random import randn"
   ]
  },
  {
   "cell_type": "code",
   "execution_count": 28,
   "metadata": {},
   "outputs": [
    {
     "name": "stdout",
     "output_type": "stream",
     "text": [
      "68138\n",
      "0.68138\n"
     ]
    }
   ],
   "source": [
    "N = 100000                                 #specify sample size\n",
    "counter = 0                              #reset counter\n",
    "for i in randn(N):                      #iterate over random values\n",
    "    if (i > -1 and i < 1):                 #check where iterated variables falls\n",
    "        counter = counter + 1               # increase counter if condition is met\n",
    "answer = counter / N                    #calculate hit-ratio\n",
    "print(counter)\n",
    "print(answer)                           #print answer"
   ]
  }
 ],
 "metadata": {
  "kernelspec": {
   "display_name": "env",
   "language": "python",
   "name": "python3"
  },
  "language_info": {
   "codemirror_mode": {
    "name": "ipython",
    "version": 3
   },
   "file_extension": ".py",
   "mimetype": "text/x-python",
   "name": "python",
   "nbconvert_exporter": "python",
   "pygments_lexer": "ipython3",
   "version": "3.11.5"
  }
 },
 "nbformat": 4,
 "nbformat_minor": 2
}
